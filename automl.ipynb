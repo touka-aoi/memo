{
  "cells": [
    {
      "cell_type": "code",
      "source": [
        "from azure.identity import DefaultAzureCredential\r\n",
        "from azure.ai.ml import MLClient\r\n",
        "from azureml.core import Workspace, Datastore, Dataset\r\n",
        "from azureml.data.datapath import DataPath\r\n",
        "from azureml.core import Datastore\r\n",
        "from azureml.core.compute import AmlCompute, ComputeTarget\r\n",
        "from azureml.core.runconfig import RunConfiguration\r\n",
        "from azureml.core.conda_dependencies import CondaDependencies\r\n",
        "\r\n",
        "from PIL import Image\r\n",
        "import cv2\r\n",
        "import numpy as np\r\n",
        "import matplotlib.pyplot as plt"
      ],
      "outputs": [],
      "execution_count": 1,
      "metadata": {
        "jupyter": {
          "source_hidden": false,
          "outputs_hidden": false
        },
        "nteract": {
          "transient": {
            "deleting": false
          }
        },
        "gather": {
          "logged": 1668605053749
        }
      }
    },
    {
      "cell_type": "code",
      "source": [
        "\r\n",
        "# Azure Machine Learning ワークスペースへのハンドルを取得する\r\n",
        "credential = DefaultAzureCredential()\r\n",
        "ml_client = None\r\n",
        "try:\r\n",
        "    ml_client = MLClient.from_config(credential)\r\n",
        "except Exception as ex:\r\n",
        "    print(ex)\r\n",
        "    # Enter details of your AzureML workspace\r\n",
        "    subscription_id = \"<SUBSCRIPTION_ID>\"\r\n",
        "    resource_group = \"<RESOURCE_GROUP>\"\r\n",
        "    workspace = \"<AZUREML_WORKSPACE_NAME>\"\r\n",
        "    ml_client = MLClient(credential, subscription_id, resource_group, workspace)"
      ],
      "outputs": [
        {
          "output_type": "stream",
          "name": "stderr",
          "text": "Found the config file in: /config.json\n"
        }
      ],
      "execution_count": 2,
      "metadata": {
        "jupyter": {
          "source_hidden": false,
          "outputs_hidden": false
        },
        "nteract": {
          "transient": {
            "deleting": false
          }
        },
        "gather": {
          "logged": 1668605055061
        }
      }
    },
    {
      "cell_type": "code",
      "source": [
        "# ワークスペースの取得\r\n",
        "ws = Workspace.from_config()"
      ],
      "outputs": [],
      "execution_count": 3,
      "metadata": {
        "jupyter": {
          "source_hidden": false,
          "outputs_hidden": false
        },
        "nteract": {
          "transient": {
            "deleting": false
          }
        },
        "gather": {
          "logged": 1668605058387
        }
      }
    },
    {
      "cell_type": "code",
      "source": [
        "# データセットの取得\r\n",
        "train_dataset = ws.datasets['odFridgeObjects_20221116_123103']"
      ],
      "outputs": [],
      "execution_count": 4,
      "metadata": {
        "jupyter": {
          "source_hidden": false,
          "outputs_hidden": false
        },
        "nteract": {
          "transient": {
            "deleting": false
          }
        },
        "gather": {
          "logged": 1668605060550
        }
      }
    },
    {
      "cell_type": "code",
      "source": [
        "exp_name = \"dpv2-image-object-detection-experiment\""
      ],
      "outputs": [],
      "execution_count": 31,
      "metadata": {
        "jupyter": {
          "source_hidden": false,
          "outputs_hidden": false
        },
        "nteract": {
          "transient": {
            "deleting": false
          }
        },
        "gather": {
          "logged": 1668605515899
        }
      }
    },
    {
      "cell_type": "code",
      "source": [
        "# コンピュートターゲットの設定\r\n",
        "\r\n",
        "datastore = ws.get_default_datastore()\r\n",
        "\r\n",
        "compute_name = 'cpu-cluster'\r\n",
        "if not compute_name in ws.compute_targets :\r\n",
        "    print('creating a new compute target...')\r\n",
        "    provisioning_config = AmlCompute.provisioning_configuration(vm_size='STANDARD_D2_V2',\r\n",
        "                                                                min_nodes=0,\r\n",
        "                                                                max_nodes=1)\r\n",
        "    compute_target = ComputeTarget.create(ws, compute_name, provisioning_config)\r\n",
        "\r\n",
        "    compute_target.wait_for_completion(\r\n",
        "        show_output=True, min_node_count=None, timeout_in_minutes=20)\r\n",
        "\r\n",
        "    # Show the result\r\n",
        "    print(compute_target.get_status().serialize())\r\n",
        "\r\n",
        "compute_target = ws.compute_targets[compute_name]"
      ],
      "outputs": [],
      "execution_count": 32,
      "metadata": {
        "jupyter": {
          "source_hidden": false,
          "outputs_hidden": false
        },
        "nteract": {
          "transient": {
            "deleting": false
          }
        },
        "gather": {
          "logged": 1668605519590
        }
      }
    },
    {
      "cell_type": "code",
      "source": [
        "# 環境構築\r\n",
        "\r\n",
        "aml_run_config = RunConfiguration()\r\n",
        "# Use just-specified compute target (\"cpu-cluster\")\r\n",
        "aml_run_config.target = compute_target\r\n",
        "\r\n",
        "# Specify CondaDependencies obj, add necessary packages\r\n",
        "aml_run_config.environment.python.conda_dependencies = CondaDependencies.create(\r\n",
        "    conda_packages=['pandas','scikit-learn', 'pillow'], \r\n",
        "    pip_packages=['azureml-sdk[automl]', 'pyarrow', 'cv2'])"
      ],
      "outputs": [],
      "execution_count": 47,
      "metadata": {
        "jupyter": {
          "source_hidden": false,
          "outputs_hidden": false
        },
        "nteract": {
          "transient": {
            "deleting": false
          }
        },
        "gather": {
          "logged": 1668607075677
        }
      }
    },
    {
      "cell_type": "code",
      "source": [
        "from azureml.data import OutputFileDatasetConfig\r\n",
        "from azureml.pipeline.steps import PythonScriptStep\r\n",
        "\r\n",
        "prepped_data_path = OutputFileDatasetConfig(name=\"output_path\")\r\n",
        "\r\n",
        "dataprep_step = PythonScriptStep(\r\n",
        "    name=\"dataprep\", \r\n",
        "    script_name=\"dataprep.py\", \r\n",
        "    compute_target=compute_target, \r\n",
        "    runconfig=aml_run_config,\r\n",
        "    arguments=[\"--output_path\", prepped_data_path],\r\n",
        "    inputs=[train_dataset.as_named_input('train_ds')],\r\n",
        "    allow_reuse=True\r\n",
        ")"
      ],
      "outputs": [],
      "execution_count": 48,
      "metadata": {
        "jupyter": {
          "source_hidden": false,
          "outputs_hidden": false
        },
        "nteract": {
          "transient": {
            "deleting": false
          }
        },
        "gather": {
          "logged": 1668607089085
        }
      }
    },
    {
      "cell_type": "code",
      "source": [
        "hoge = train_dataset.to_pandas_dataframe()"
      ],
      "outputs": [],
      "execution_count": 38,
      "metadata": {
        "jupyter": {
          "source_hidden": false,
          "outputs_hidden": false
        },
        "nteract": {
          "transient": {
            "deleting": false
          }
        },
        "gather": {
          "logged": 1668606598780
        }
      }
    },
    {
      "cell_type": "code",
      "source": [
        "fuga = hoge.iloc[:, [0]]"
      ],
      "outputs": [],
      "execution_count": 44,
      "metadata": {
        "jupyter": {
          "source_hidden": false,
          "outputs_hidden": false
        },
        "nteract": {
          "transient": {
            "deleting": false
          }
        },
        "gather": {
          "logged": 1668606632716
        }
      }
    },
    {
      "cell_type": "code",
      "source": [
        "hoge.iloc[:, 0] = fuga"
      ],
      "outputs": [],
      "execution_count": 42,
      "metadata": {
        "jupyter": {
          "source_hidden": false,
          "outputs_hidden": false
        },
        "nteract": {
          "transient": {
            "deleting": false
          }
        },
        "gather": {
          "logged": 1668606618353
        }
      }
    },
    {
      "cell_type": "code",
      "source": [
        "hoge"
      ],
      "outputs": [
        {
          "output_type": "execute_result",
          "execution_count": 43,
          "data": {
            "text/plain": "                                            image_url  \\\n0   workspaceblobstore/UI/2022-11-16_121913_UTC/im...   \n1   workspaceblobstore/UI/2022-11-16_121913_UTC/im...   \n2   workspaceblobstore/UI/2022-11-16_121913_UTC/im...   \n3   workspaceblobstore/UI/2022-11-16_121913_UTC/im...   \n4   workspaceblobstore/UI/2022-11-16_121913_UTC/im...   \n5   workspaceblobstore/UI/2022-11-16_121913_UTC/im...   \n6   workspaceblobstore/UI/2022-11-16_121913_UTC/im...   \n7   workspaceblobstore/UI/2022-11-16_121913_UTC/im...   \n8   workspaceblobstore/UI/2022-11-16_121913_UTC/im...   \n9   workspaceblobstore/UI/2022-11-16_121913_UTC/im...   \n10  workspaceblobstore/UI/2022-11-16_121913_UTC/im...   \n11  workspaceblobstore/UI/2022-11-16_121913_UTC/im...   \n12  workspaceblobstore/UI/2022-11-16_121913_UTC/im...   \n13  workspaceblobstore/UI/2022-11-16_121913_UTC/im...   \n14  workspaceblobstore/UI/2022-11-16_121913_UTC/im...   \n15  workspaceblobstore/UI/2022-11-16_121913_UTC/im...   \n16  workspaceblobstore/UI/2022-11-16_121913_UTC/im...   \n17  workspaceblobstore/UI/2022-11-16_121913_UTC/im...   \n18  workspaceblobstore/UI/2022-11-16_121913_UTC/im...   \n19  workspaceblobstore/UI/2022-11-16_121913_UTC/im...   \n20  workspaceblobstore/UI/2022-11-16_121913_UTC/im...   \n21  workspaceblobstore/UI/2022-11-16_121913_UTC/im...   \n22  workspaceblobstore/UI/2022-11-16_121913_UTC/im...   \n23  workspaceblobstore/UI/2022-11-16_121913_UTC/im...   \n24  workspaceblobstore/UI/2022-11-16_121913_UTC/im...   \n25  workspaceblobstore/UI/2022-11-16_121913_UTC/im...   \n26  workspaceblobstore/UI/2022-11-16_121913_UTC/im...   \n27  workspaceblobstore/UI/2022-11-16_121913_UTC/im...   \n28  workspaceblobstore/UI/2022-11-16_121913_UTC/im...   \n29  workspaceblobstore/UI/2022-11-16_121913_UTC/im...   \n30  workspaceblobstore/UI/2022-11-16_121913_UTC/im...   \n31  workspaceblobstore/UI/2022-11-16_121913_UTC/im...   \n32  workspaceblobstore/UI/2022-11-16_121913_UTC/im...   \n33  workspaceblobstore/UI/2022-11-16_121913_UTC/im...   \n34  workspaceblobstore/UI/2022-11-16_121913_UTC/im...   \n35  workspaceblobstore/UI/2022-11-16_121913_UTC/im...   \n36  workspaceblobstore/UI/2022-11-16_121913_UTC/im...   \n37  workspaceblobstore/UI/2022-11-16_121913_UTC/im...   \n38  workspaceblobstore/UI/2022-11-16_121913_UTC/im...   \n39  workspaceblobstore/UI/2022-11-16_121913_UTC/im...   \n40  workspaceblobstore/UI/2022-11-16_121913_UTC/im...   \n41  workspaceblobstore/UI/2022-11-16_121913_UTC/im...   \n42  workspaceblobstore/UI/2022-11-16_121913_UTC/im...   \n43  workspaceblobstore/UI/2022-11-16_121913_UTC/im...   \n44  workspaceblobstore/UI/2022-11-16_121913_UTC/im...   \n45  workspaceblobstore/UI/2022-11-16_121913_UTC/im...   \n46  workspaceblobstore/UI/2022-11-16_121913_UTC/im...   \n47  workspaceblobstore/UI/2022-11-16_121913_UTC/im...   \n48  workspaceblobstore/UI/2022-11-16_121913_UTC/im...   \n\n                                                label      label_confidence  \\\n0   [{'label': 'drink/water_bottle', 'topX': 0.048...  [1.0, 1.0, 1.0, 1.0]   \n1   [{'label': 'drink/water_bottle', 'topX': 0.072...                 [1.0]   \n2   [{'label': 'drink/milk_bottle', 'topX': 0.0420...  [1.0, 1.0, 1.0, 1.0]   \n3   [{'label': 'drink/carton', 'topX': 0.124590527...       [1.0, 1.0, 1.0]   \n4   [{'label': 'drink/milk_bottle', 'topX': 0.1245...                 [1.0]   \n5   [{'label': 'drink/can', 'topX': 0.426551916049...                 [1.0]   \n6   [{'label': 'drink/milk_bottle', 'topX': 0.6500...            [1.0, 1.0]   \n7   [{'label': 'drink/carton', 'topX': 0.732539456...  [1.0, 1.0, 1.0, 1.0]   \n8   [{'label': 'drink/milk_bottle', 'topX': 0.4748...  [1.0, 1.0, 1.0, 1.0]   \n9   [{'label': 'drink/carton', 'topX': 0.205113564...            [1.0, 1.0]   \n10  [{'label': 'drink/can', 'topX': 0.561428003064...       [1.0, 1.0, 1.0]   \n11  [{'label': 'drink/milk_bottle', 'topX': 0.0460...            [1.0, 1.0]   \n12  [{'label': 'drink/water_bottle', 'topX': 0.404...       [1.0, 1.0, 1.0]   \n13  [{'label': 'drink/milk_bottle', 'topX': 0.0762...  [1.0, 1.0, 1.0, 1.0]   \n14  [{'label': 'drink/carton', 'topX': 0.488957269...  [1.0, 1.0, 1.0, 1.0]   \n15  [{'label': 'drink/milk_bottle', 'topX': 0.0641...       [1.0, 1.0, 1.0]   \n16  [{'label': 'drink/carton', 'topX': 0.223231247...       [1.0, 1.0, 1.0]   \n17  [{'label': 'drink/water_bottle', 'topX': 0.112...       [1.0, 1.0, 1.0]   \n18  [{'label': 'drink/water_bottle', 'topX': 0.070...            [1.0, 1.0]   \n19  [{'label': 'drink/carton', 'topX': 0.136668982...            [1.0, 1.0]   \n20  [{'label': 'drink/milk_bottle', 'topX': 0.0435...            [1.0, 1.0]   \n21  [{'label': 'drink/water_bottle', 'topX': 0.261...            [1.0, 1.0]   \n22  [{'label': 'drink/carton', 'topX': 0.317845816...            [1.0, 1.0]   \n23  [{'label': 'drink/water_bottle', 'topX': 0.209...            [1.0, 1.0]   \n24  [{'label': 'drink/carton', 'topX': 0.186995880...       [1.0, 1.0, 1.0]   \n25  [{'label': 'drink/can', 'topX': 0.239335854967...                 [1.0]   \n26  [{'label': 'drink/can', 'topX': 0.418499612346...  [1.0, 1.0, 1.0, 1.0]   \n27  [{'label': 'drink/milk_bottle', 'topX': 0.1746...       [1.0, 1.0, 1.0]   \n28  [{'label': 'drink/carton', 'topX': 0.772800975...  [1.0, 1.0, 1.0, 1.0]   \n29  [{'label': 'drink/water_bottle', 'topX': 0.104...                 [1.0]   \n30  [{'label': 'drink/water_bottle', 'topX': 0.438...                 [1.0]   \n31  [{'label': 'drink/water_bottle', 'topX': 0.364...  [1.0, 1.0, 1.0, 1.0]   \n32  [{'label': 'drink/water_bottle', 'topX': 0.176...            [1.0, 1.0]   \n33  [{'label': 'drink/carton', 'topX': 0.499022649...            [1.0, 1.0]   \n34  [{'label': 'drink/carton', 'topX': 0.724487153...  [1.0, 1.0, 1.0, 1.0]   \n35  [{'label': 'drink/milk_bottle', 'topX': 0.1990...  [1.0, 1.0, 1.0, 1.0]   \n36  [{'label': 'drink/water_bottle', 'topX': 0.271...            [1.0, 1.0]   \n37  [{'label': 'drink/carton', 'topX': 0.261479690...                 [1.0]   \n38  [{'label': 'drink/carton', 'topX': 0.664094875...  [1.0, 1.0, 1.0, 1.0]   \n39  [{'label': 'drink/can', 'topX': 0.025949806853...            [1.0, 1.0]   \n40  [{'label': 'drink/can', 'topX': 0.068224401291...       [1.0, 1.0, 1.0]   \n41  [{'label': 'drink/carton', 'topX': 0.062185173...       [1.0, 1.0, 1.0]   \n42  [{'label': 'drink/can', 'topX': 0.342002727173...       [1.0, 1.0, 1.0]   \n43  [{'label': 'drink/milk_bottle', 'topX': 0.0762...            [1.0, 1.0]   \n44  [{'label': 'drink/water_bottle', 'topX': 0.658...       [1.0, 1.0, 1.0]   \n45  [{'label': 'drink/carton', 'topX': 0.170891273...            [1.0, 1.0]   \n46  [{'label': 'drink/milk_bottle', 'topX': 0.5533...  [1.0, 1.0, 1.0, 1.0]   \n47  [{'label': 'drink/milk_bottle', 'topX': 0.1890...  [1.0, 1.0, 1.0, 1.0]   \n48  [{'label': 'drink/can', 'topX': 0.744617912295...  [1.0, 1.0, 1.0, 1.0]   \n\n    image_height  image_width  \n0            666          499  \n1            666          499  \n2            666          499  \n3            666          499  \n4            666          499  \n5            666          499  \n6            666          499  \n7            666          499  \n8            666          499  \n9            666          499  \n10           666          499  \n11           666          499  \n12           666          499  \n13           666          499  \n14           666          499  \n15           666          499  \n16           666          499  \n17           666          499  \n18           666          499  \n19           666          499  \n20           666          499  \n21           666          499  \n22           666          499  \n23           666          499  \n24           666          499  \n25           666          499  \n26           666          499  \n27           666          499  \n28           666          499  \n29           666          499  \n30           666          499  \n31           666          499  \n32           666          499  \n33           666          499  \n34           666          499  \n35           666          499  \n36           666          499  \n37           666          499  \n38           666          499  \n39           666          499  \n40           666          499  \n41           666          499  \n42           666          499  \n43           666          499  \n44           666          499  \n45           666          499  \n46           666          499  \n47           666          499  \n48           666          499  ",
            "text/html": "<div>\n<style scoped>\n    .dataframe tbody tr th:only-of-type {\n        vertical-align: middle;\n    }\n\n    .dataframe tbody tr th {\n        vertical-align: top;\n    }\n\n    .dataframe thead th {\n        text-align: right;\n    }\n</style>\n<table border=\"1\" class=\"dataframe\">\n  <thead>\n    <tr style=\"text-align: right;\">\n      <th></th>\n      <th>image_url</th>\n      <th>label</th>\n      <th>label_confidence</th>\n      <th>image_height</th>\n      <th>image_width</th>\n    </tr>\n  </thead>\n  <tbody>\n    <tr>\n      <th>0</th>\n      <td>workspaceblobstore/UI/2022-11-16_121913_UTC/im...</td>\n      <td>[{'label': 'drink/water_bottle', 'topX': 0.048...</td>\n      <td>[1.0, 1.0, 1.0, 1.0]</td>\n      <td>666</td>\n      <td>499</td>\n    </tr>\n    <tr>\n      <th>1</th>\n      <td>workspaceblobstore/UI/2022-11-16_121913_UTC/im...</td>\n      <td>[{'label': 'drink/water_bottle', 'topX': 0.072...</td>\n      <td>[1.0]</td>\n      <td>666</td>\n      <td>499</td>\n    </tr>\n    <tr>\n      <th>2</th>\n      <td>workspaceblobstore/UI/2022-11-16_121913_UTC/im...</td>\n      <td>[{'label': 'drink/milk_bottle', 'topX': 0.0420...</td>\n      <td>[1.0, 1.0, 1.0, 1.0]</td>\n      <td>666</td>\n      <td>499</td>\n    </tr>\n    <tr>\n      <th>3</th>\n      <td>workspaceblobstore/UI/2022-11-16_121913_UTC/im...</td>\n      <td>[{'label': 'drink/carton', 'topX': 0.124590527...</td>\n      <td>[1.0, 1.0, 1.0]</td>\n      <td>666</td>\n      <td>499</td>\n    </tr>\n    <tr>\n      <th>4</th>\n      <td>workspaceblobstore/UI/2022-11-16_121913_UTC/im...</td>\n      <td>[{'label': 'drink/milk_bottle', 'topX': 0.1245...</td>\n      <td>[1.0]</td>\n      <td>666</td>\n      <td>499</td>\n    </tr>\n    <tr>\n      <th>5</th>\n      <td>workspaceblobstore/UI/2022-11-16_121913_UTC/im...</td>\n      <td>[{'label': 'drink/can', 'topX': 0.426551916049...</td>\n      <td>[1.0]</td>\n      <td>666</td>\n      <td>499</td>\n    </tr>\n    <tr>\n      <th>6</th>\n      <td>workspaceblobstore/UI/2022-11-16_121913_UTC/im...</td>\n      <td>[{'label': 'drink/milk_bottle', 'topX': 0.6500...</td>\n      <td>[1.0, 1.0]</td>\n      <td>666</td>\n      <td>499</td>\n    </tr>\n    <tr>\n      <th>7</th>\n      <td>workspaceblobstore/UI/2022-11-16_121913_UTC/im...</td>\n      <td>[{'label': 'drink/carton', 'topX': 0.732539456...</td>\n      <td>[1.0, 1.0, 1.0, 1.0]</td>\n      <td>666</td>\n      <td>499</td>\n    </tr>\n    <tr>\n      <th>8</th>\n      <td>workspaceblobstore/UI/2022-11-16_121913_UTC/im...</td>\n      <td>[{'label': 'drink/milk_bottle', 'topX': 0.4748...</td>\n      <td>[1.0, 1.0, 1.0, 1.0]</td>\n      <td>666</td>\n      <td>499</td>\n    </tr>\n    <tr>\n      <th>9</th>\n      <td>workspaceblobstore/UI/2022-11-16_121913_UTC/im...</td>\n      <td>[{'label': 'drink/carton', 'topX': 0.205113564...</td>\n      <td>[1.0, 1.0]</td>\n      <td>666</td>\n      <td>499</td>\n    </tr>\n    <tr>\n      <th>10</th>\n      <td>workspaceblobstore/UI/2022-11-16_121913_UTC/im...</td>\n      <td>[{'label': 'drink/can', 'topX': 0.561428003064...</td>\n      <td>[1.0, 1.0, 1.0]</td>\n      <td>666</td>\n      <td>499</td>\n    </tr>\n    <tr>\n      <th>11</th>\n      <td>workspaceblobstore/UI/2022-11-16_121913_UTC/im...</td>\n      <td>[{'label': 'drink/milk_bottle', 'topX': 0.0460...</td>\n      <td>[1.0, 1.0]</td>\n      <td>666</td>\n      <td>499</td>\n    </tr>\n    <tr>\n      <th>12</th>\n      <td>workspaceblobstore/UI/2022-11-16_121913_UTC/im...</td>\n      <td>[{'label': 'drink/water_bottle', 'topX': 0.404...</td>\n      <td>[1.0, 1.0, 1.0]</td>\n      <td>666</td>\n      <td>499</td>\n    </tr>\n    <tr>\n      <th>13</th>\n      <td>workspaceblobstore/UI/2022-11-16_121913_UTC/im...</td>\n      <td>[{'label': 'drink/milk_bottle', 'topX': 0.0762...</td>\n      <td>[1.0, 1.0, 1.0, 1.0]</td>\n      <td>666</td>\n      <td>499</td>\n    </tr>\n    <tr>\n      <th>14</th>\n      <td>workspaceblobstore/UI/2022-11-16_121913_UTC/im...</td>\n      <td>[{'label': 'drink/carton', 'topX': 0.488957269...</td>\n      <td>[1.0, 1.0, 1.0, 1.0]</td>\n      <td>666</td>\n      <td>499</td>\n    </tr>\n    <tr>\n      <th>15</th>\n      <td>workspaceblobstore/UI/2022-11-16_121913_UTC/im...</td>\n      <td>[{'label': 'drink/milk_bottle', 'topX': 0.0641...</td>\n      <td>[1.0, 1.0, 1.0]</td>\n      <td>666</td>\n      <td>499</td>\n    </tr>\n    <tr>\n      <th>16</th>\n      <td>workspaceblobstore/UI/2022-11-16_121913_UTC/im...</td>\n      <td>[{'label': 'drink/carton', 'topX': 0.223231247...</td>\n      <td>[1.0, 1.0, 1.0]</td>\n      <td>666</td>\n      <td>499</td>\n    </tr>\n    <tr>\n      <th>17</th>\n      <td>workspaceblobstore/UI/2022-11-16_121913_UTC/im...</td>\n      <td>[{'label': 'drink/water_bottle', 'topX': 0.112...</td>\n      <td>[1.0, 1.0, 1.0]</td>\n      <td>666</td>\n      <td>499</td>\n    </tr>\n    <tr>\n      <th>18</th>\n      <td>workspaceblobstore/UI/2022-11-16_121913_UTC/im...</td>\n      <td>[{'label': 'drink/water_bottle', 'topX': 0.070...</td>\n      <td>[1.0, 1.0]</td>\n      <td>666</td>\n      <td>499</td>\n    </tr>\n    <tr>\n      <th>19</th>\n      <td>workspaceblobstore/UI/2022-11-16_121913_UTC/im...</td>\n      <td>[{'label': 'drink/carton', 'topX': 0.136668982...</td>\n      <td>[1.0, 1.0]</td>\n      <td>666</td>\n      <td>499</td>\n    </tr>\n    <tr>\n      <th>20</th>\n      <td>workspaceblobstore/UI/2022-11-16_121913_UTC/im...</td>\n      <td>[{'label': 'drink/milk_bottle', 'topX': 0.0435...</td>\n      <td>[1.0, 1.0]</td>\n      <td>666</td>\n      <td>499</td>\n    </tr>\n    <tr>\n      <th>21</th>\n      <td>workspaceblobstore/UI/2022-11-16_121913_UTC/im...</td>\n      <td>[{'label': 'drink/water_bottle', 'topX': 0.261...</td>\n      <td>[1.0, 1.0]</td>\n      <td>666</td>\n      <td>499</td>\n    </tr>\n    <tr>\n      <th>22</th>\n      <td>workspaceblobstore/UI/2022-11-16_121913_UTC/im...</td>\n      <td>[{'label': 'drink/carton', 'topX': 0.317845816...</td>\n      <td>[1.0, 1.0]</td>\n      <td>666</td>\n      <td>499</td>\n    </tr>\n    <tr>\n      <th>23</th>\n      <td>workspaceblobstore/UI/2022-11-16_121913_UTC/im...</td>\n      <td>[{'label': 'drink/water_bottle', 'topX': 0.209...</td>\n      <td>[1.0, 1.0]</td>\n      <td>666</td>\n      <td>499</td>\n    </tr>\n    <tr>\n      <th>24</th>\n      <td>workspaceblobstore/UI/2022-11-16_121913_UTC/im...</td>\n      <td>[{'label': 'drink/carton', 'topX': 0.186995880...</td>\n      <td>[1.0, 1.0, 1.0]</td>\n      <td>666</td>\n      <td>499</td>\n    </tr>\n    <tr>\n      <th>25</th>\n      <td>workspaceblobstore/UI/2022-11-16_121913_UTC/im...</td>\n      <td>[{'label': 'drink/can', 'topX': 0.239335854967...</td>\n      <td>[1.0]</td>\n      <td>666</td>\n      <td>499</td>\n    </tr>\n    <tr>\n      <th>26</th>\n      <td>workspaceblobstore/UI/2022-11-16_121913_UTC/im...</td>\n      <td>[{'label': 'drink/can', 'topX': 0.418499612346...</td>\n      <td>[1.0, 1.0, 1.0, 1.0]</td>\n      <td>666</td>\n      <td>499</td>\n    </tr>\n    <tr>\n      <th>27</th>\n      <td>workspaceblobstore/UI/2022-11-16_121913_UTC/im...</td>\n      <td>[{'label': 'drink/milk_bottle', 'topX': 0.1746...</td>\n      <td>[1.0, 1.0, 1.0]</td>\n      <td>666</td>\n      <td>499</td>\n    </tr>\n    <tr>\n      <th>28</th>\n      <td>workspaceblobstore/UI/2022-11-16_121913_UTC/im...</td>\n      <td>[{'label': 'drink/carton', 'topX': 0.772800975...</td>\n      <td>[1.0, 1.0, 1.0, 1.0]</td>\n      <td>666</td>\n      <td>499</td>\n    </tr>\n    <tr>\n      <th>29</th>\n      <td>workspaceblobstore/UI/2022-11-16_121913_UTC/im...</td>\n      <td>[{'label': 'drink/water_bottle', 'topX': 0.104...</td>\n      <td>[1.0]</td>\n      <td>666</td>\n      <td>499</td>\n    </tr>\n    <tr>\n      <th>30</th>\n      <td>workspaceblobstore/UI/2022-11-16_121913_UTC/im...</td>\n      <td>[{'label': 'drink/water_bottle', 'topX': 0.438...</td>\n      <td>[1.0]</td>\n      <td>666</td>\n      <td>499</td>\n    </tr>\n    <tr>\n      <th>31</th>\n      <td>workspaceblobstore/UI/2022-11-16_121913_UTC/im...</td>\n      <td>[{'label': 'drink/water_bottle', 'topX': 0.364...</td>\n      <td>[1.0, 1.0, 1.0, 1.0]</td>\n      <td>666</td>\n      <td>499</td>\n    </tr>\n    <tr>\n      <th>32</th>\n      <td>workspaceblobstore/UI/2022-11-16_121913_UTC/im...</td>\n      <td>[{'label': 'drink/water_bottle', 'topX': 0.176...</td>\n      <td>[1.0, 1.0]</td>\n      <td>666</td>\n      <td>499</td>\n    </tr>\n    <tr>\n      <th>33</th>\n      <td>workspaceblobstore/UI/2022-11-16_121913_UTC/im...</td>\n      <td>[{'label': 'drink/carton', 'topX': 0.499022649...</td>\n      <td>[1.0, 1.0]</td>\n      <td>666</td>\n      <td>499</td>\n    </tr>\n    <tr>\n      <th>34</th>\n      <td>workspaceblobstore/UI/2022-11-16_121913_UTC/im...</td>\n      <td>[{'label': 'drink/carton', 'topX': 0.724487153...</td>\n      <td>[1.0, 1.0, 1.0, 1.0]</td>\n      <td>666</td>\n      <td>499</td>\n    </tr>\n    <tr>\n      <th>35</th>\n      <td>workspaceblobstore/UI/2022-11-16_121913_UTC/im...</td>\n      <td>[{'label': 'drink/milk_bottle', 'topX': 0.1990...</td>\n      <td>[1.0, 1.0, 1.0, 1.0]</td>\n      <td>666</td>\n      <td>499</td>\n    </tr>\n    <tr>\n      <th>36</th>\n      <td>workspaceblobstore/UI/2022-11-16_121913_UTC/im...</td>\n      <td>[{'label': 'drink/water_bottle', 'topX': 0.271...</td>\n      <td>[1.0, 1.0]</td>\n      <td>666</td>\n      <td>499</td>\n    </tr>\n    <tr>\n      <th>37</th>\n      <td>workspaceblobstore/UI/2022-11-16_121913_UTC/im...</td>\n      <td>[{'label': 'drink/carton', 'topX': 0.261479690...</td>\n      <td>[1.0]</td>\n      <td>666</td>\n      <td>499</td>\n    </tr>\n    <tr>\n      <th>38</th>\n      <td>workspaceblobstore/UI/2022-11-16_121913_UTC/im...</td>\n      <td>[{'label': 'drink/carton', 'topX': 0.664094875...</td>\n      <td>[1.0, 1.0, 1.0, 1.0]</td>\n      <td>666</td>\n      <td>499</td>\n    </tr>\n    <tr>\n      <th>39</th>\n      <td>workspaceblobstore/UI/2022-11-16_121913_UTC/im...</td>\n      <td>[{'label': 'drink/can', 'topX': 0.025949806853...</td>\n      <td>[1.0, 1.0]</td>\n      <td>666</td>\n      <td>499</td>\n    </tr>\n    <tr>\n      <th>40</th>\n      <td>workspaceblobstore/UI/2022-11-16_121913_UTC/im...</td>\n      <td>[{'label': 'drink/can', 'topX': 0.068224401291...</td>\n      <td>[1.0, 1.0, 1.0]</td>\n      <td>666</td>\n      <td>499</td>\n    </tr>\n    <tr>\n      <th>41</th>\n      <td>workspaceblobstore/UI/2022-11-16_121913_UTC/im...</td>\n      <td>[{'label': 'drink/carton', 'topX': 0.062185173...</td>\n      <td>[1.0, 1.0, 1.0]</td>\n      <td>666</td>\n      <td>499</td>\n    </tr>\n    <tr>\n      <th>42</th>\n      <td>workspaceblobstore/UI/2022-11-16_121913_UTC/im...</td>\n      <td>[{'label': 'drink/can', 'topX': 0.342002727173...</td>\n      <td>[1.0, 1.0, 1.0]</td>\n      <td>666</td>\n      <td>499</td>\n    </tr>\n    <tr>\n      <th>43</th>\n      <td>workspaceblobstore/UI/2022-11-16_121913_UTC/im...</td>\n      <td>[{'label': 'drink/milk_bottle', 'topX': 0.0762...</td>\n      <td>[1.0, 1.0]</td>\n      <td>666</td>\n      <td>499</td>\n    </tr>\n    <tr>\n      <th>44</th>\n      <td>workspaceblobstore/UI/2022-11-16_121913_UTC/im...</td>\n      <td>[{'label': 'drink/water_bottle', 'topX': 0.658...</td>\n      <td>[1.0, 1.0, 1.0]</td>\n      <td>666</td>\n      <td>499</td>\n    </tr>\n    <tr>\n      <th>45</th>\n      <td>workspaceblobstore/UI/2022-11-16_121913_UTC/im...</td>\n      <td>[{'label': 'drink/carton', 'topX': 0.170891273...</td>\n      <td>[1.0, 1.0]</td>\n      <td>666</td>\n      <td>499</td>\n    </tr>\n    <tr>\n      <th>46</th>\n      <td>workspaceblobstore/UI/2022-11-16_121913_UTC/im...</td>\n      <td>[{'label': 'drink/milk_bottle', 'topX': 0.5533...</td>\n      <td>[1.0, 1.0, 1.0, 1.0]</td>\n      <td>666</td>\n      <td>499</td>\n    </tr>\n    <tr>\n      <th>47</th>\n      <td>workspaceblobstore/UI/2022-11-16_121913_UTC/im...</td>\n      <td>[{'label': 'drink/milk_bottle', 'topX': 0.1890...</td>\n      <td>[1.0, 1.0, 1.0, 1.0]</td>\n      <td>666</td>\n      <td>499</td>\n    </tr>\n    <tr>\n      <th>48</th>\n      <td>workspaceblobstore/UI/2022-11-16_121913_UTC/im...</td>\n      <td>[{'label': 'drink/can', 'topX': 0.744617912295...</td>\n      <td>[1.0, 1.0, 1.0, 1.0]</td>\n      <td>666</td>\n      <td>499</td>\n    </tr>\n  </tbody>\n</table>\n</div>"
          },
          "metadata": {}
        }
      ],
      "execution_count": 43,
      "metadata": {
        "jupyter": {
          "source_hidden": false,
          "outputs_hidden": false
        },
        "nteract": {
          "transient": {
            "deleting": false
          }
        },
        "gather": {
          "logged": 1668606627642
        }
      }
    },
    {
      "cell_type": "code",
      "source": [
        "from azureml.pipeline.core import Pipeline\r\n",
        "from azureml.core import Experiment\r\n",
        "\r\n",
        "pipeline = Pipeline(ws, [dataprep_step])\r\n",
        "\r\n",
        "experiment = Experiment(workspace=ws, name='automl_exp')\r\n",
        "\r\n",
        "run = experiment.submit(pipeline, show_output=True)\r\n",
        "run.wait_for_completion()"
      ],
      "outputs": [
        {
          "output_type": "stream",
          "name": "stdout",
          "text": "Created step dataprep [697f9e7c][2d3c2743-db46-4858-b07e-bb46294306fd], (This step will run and generate new outputs)\nSubmitted PipelineRun 56521f0d-1636-42d5-af69-d58baa1a01f4\nLink to Azure Machine Learning Portal: https://ml.azure.com/runs/56521f0d-1636-42d5-af69-d58baa1a01f4?wsid=/subscriptions/6c8b72b4-b67f-494d-8404-25d9f0d8b1c1/resourcegroups/touka/workspaces/touka_rd&tid=8d41d6d7-36ce-4e0c-8c6d-cf2c54c39039\nPipelineRunId: 56521f0d-1636-42d5-af69-d58baa1a01f4\nLink to Azure Machine Learning Portal: https://ml.azure.com/runs/56521f0d-1636-42d5-af69-d58baa1a01f4?wsid=/subscriptions/6c8b72b4-b67f-494d-8404-25d9f0d8b1c1/resourcegroups/touka/workspaces/touka_rd&tid=8d41d6d7-36ce-4e0c-8c6d-cf2c54c39039\nPipelineRun Status: NotStarted\nPipelineRun Status: Running\n\n\nStepRunId: 1e35364d-872b-4d09-bd8d-67f795b9c49a\nLink to Azure Machine Learning Portal: https://ml.azure.com/runs/1e35364d-872b-4d09-bd8d-67f795b9c49a?wsid=/subscriptions/6c8b72b4-b67f-494d-8404-25d9f0d8b1c1/resourcegroups/touka/workspaces/touka_rd&tid=8d41d6d7-36ce-4e0c-8c6d-cf2c54c39039\nStepRun( dataprep ) Status: NotStarted\n\nStreaming azureml-logs/20_image_build_log.txt\n=============================================\n2022/11/16 13:58:33 Downloading source code...\n2022/11/16 13:58:33 Finished downloading source code\n2022/11/16 13:58:34 Creating Docker network: acb_default_network, driver: 'bridge'\n2022/11/16 13:58:34 Successfully set up Docker network: acb_default_network\n2022/11/16 13:58:34 Setting up Docker configuration...\n2022/11/16 13:58:35 Successfully set up Docker configuration\n2022/11/16 13:58:35 Logging in to registry: 61e08bc873dc4d3b9738f57096822123.azurecr.io\n2022/11/16 13:58:36 Successfully logged into 61e08bc873dc4d3b9738f57096822123.azurecr.io\n2022/11/16 13:58:36 Executing step ID: acb_step_0. Timeout(sec): 5400, Working directory: '', Network: 'acb_default_network'\n2022/11/16 13:58:36 Scanning for dependencies...\n2022/11/16 13:58:36 Successfully scanned dependencies\n2022/11/16 13:58:36 Launching container with name: acb_step_0\nSending build context to Docker daemon  70.66kB\n\nStep 1/21 : FROM mcr.microsoft.com/azureml/openmpi4.1.0-ubuntu20.04:20220708.v1@sha256:2a7a3804e0b071870e78304aa13dab15c2ece3120f781a99d52f24ff6b71dea6\nmcr.microsoft.com/azureml/openmpi4.1.0-ubuntu20.04:20220708.v1@sha256:2a7a3804e0b071870e78304aa13dab15c2ece3120f781a99d52f24ff6b71dea6: Pulling from azureml/openmpi4.1.0-ubuntu20.04\nd7bfe07ed847: Already exists\n1a9a51b4af0d: Pulling fs layer\n9d74d44c539e: Pulling fs layer\n829bf1798a9e: Pulling fs layer\n5fe57cb5a06b: Pulling fs layer\n0b73c9d3e4c7: Pulling fs layer\ndf3a1ae83fc1: Pulling fs layer\n622a938b5eec: Pulling fs layer\n9d0e20c4f643: Pulling fs layer\ne63d29d12ed0: Pulling fs layer\n5fe57cb5a06b: Waiting\n622a938b5eec: Waiting\n9d0e20c4f643: Waiting\ne63d29d12ed0: Waiting\n0b73c9d3e4c7: Waiting\ndf3a1ae83fc1: Waiting\n829bf1798a9e: Verifying Checksum\n829bf1798a9e: Download complete\n5fe57cb5a06b: Verifying Checksum\n5fe57cb5a06b: Download complete\n9d74d44c539e: Verifying Checksum\n9d74d44c539e: Download complete\ndf3a1ae83fc1: Verifying Checksum\ndf3a1ae83fc1: Download complete\n0b73c9d3e4c7: Verifying Checksum\n0b73c9d3e4c7: Download complete\n9d0e20c4f643: Verifying Checksum\n9d0e20c4f643: Download complete\ne63d29d12ed0: Verifying Checksum\ne63d29d12ed0: Download complete\n1a9a51b4af0d: Verifying Checksum\n1a9a51b4af0d: Download complete\n622a938b5eec: Verifying Checksum\n622a938b5eec: Download complete\n1a9a51b4af0d: Pull complete\n9d74d44c539e: Pull complete\n829bf1798a9e: Pull complete\n5fe57cb5a06b: Pull complete\n0b73c9d3e4c7: Pull complete\nStepRun( dataprep ) Status: Running\ndf3a1ae83fc1: Pull complete\n622a938b5eec: Pull complete\n9d0e20c4f643: Pull complete\ne63d29d12ed0: Pull complete\nDigest: sha256:2a7a3804e0b071870e78304aa13dab15c2ece3120f781a99d52f24ff6b71dea6\nStatus: Downloaded newer image for mcr.microsoft.com/azureml/openmpi4.1.0-ubuntu20.04:20220708.v1@sha256:2a7a3804e0b071870e78304aa13dab15c2ece3120f781a99d52f24ff6b71dea6\n ---> a126cf3d80b0\nStep 2/21 : USER root\n ---> Running in bdf21ed2d52d\nRemoving intermediate container bdf21ed2d52d\n ---> 92a1ddb7e9a9\nStep 3/21 : RUN mkdir -p $HOME/.cache\n ---> Running in a3f1bb9be5fa\nRemoving intermediate container a3f1bb9be5fa\n ---> 6c46096d09a6\nStep 4/21 : WORKDIR /\n ---> Running in 59c624c1dbc7\nRemoving intermediate container 59c624c1dbc7\n ---> 194e02d7adf5\nStep 5/21 : COPY azureml-environment-setup/99brokenproxy /etc/apt/apt.conf.d/\n ---> 57a304d3072e\nStep 6/21 : RUN if dpkg --compare-versions `conda --version | grep -oE '[^ ]+$'` lt 4.4.11; then conda install conda==4.4.11; fi\n ---> Running in 787f96c1f4b3\nRemoving intermediate container 787f96c1f4b3\n ---> bca990ce2c22\nStep 7/21 : COPY azureml-environment-setup/mutated_conda_dependencies.yml azureml-environment-setup/mutated_conda_dependencies.yml\n ---> d9cd922eecb9\nStep 8/21 : RUN ldconfig /usr/local/cuda/lib64/stubs && conda env create -p /azureml-envs/azureml_e883ee763b530ee11779690b190c3da5 -f azureml-environment-setup/mutated_conda_dependencies.yml && rm -rf \"$HOME/.cache/pip\" && conda clean -aqy && CONDA_ROOT_DIR=$(conda info --root) && rm -rf \"$CONDA_ROOT_DIR/pkgs\" && find \"$CONDA_ROOT_DIR\" -type d -name __pycache__ -exec rm -rf {} + && ldconfig\n ---> Running in 632779c9a1c8\nWarning: you have pip-installed dependencies in your environment file, but you do not list pip itself as one of your conda dependencies.  Conda may not use the correct pip to install your packages, and they may end up in the wrong place.  Please add an explicit pip dependency.  I'm adding one for you, but still nagging you.\nCollecting package metadata (repodata.json): ...working... \ndone\nSolving environment: ...working... \ndone\n\nDownloading and Extracting Packages\n\nlibstdcxx-ng-11.2.0  | 6.1 MB    |            |   0% \nlibstdcxx-ng-11.2.0  | 6.1 MB    | ########## | 100% \nlibstdcxx-ng-11.2.0  | 6.1 MB    | ########## | 100% \n\nsetuptools-61.2.0    | 1.3 MB    |            |   0% \nsetuptools-61.2.0    | 1.3 MB    | ########## | 100% \nsetuptools-61.2.0    | 1.3 MB    | ########## | 100% \n\nmkl_random-1.2.2     | 341 KB    |            |   0% \nmkl_random-1.2.2     | 341 KB    | 4          |   5% \nmkl_random-1.2.2     | 341 KB    | ########## | 100% \n\npillow-9.2.0         | 716 KB    |            |   0% \npillow-9.2.0         | 716 KB    | ########## | 100% \npillow-9.2.0         | 716 KB    | ########## | 100% \n\nmkl_fft-1.3.1        | 200 KB    |            |   0% \nmkl_fft-1.3.1        | 200 KB    | 8          |   8% \nmkl_fft-1.3.1        | 200 KB    | ########## | 100% \n\npython-3.8.13        | 22.7 MB   |            |   0% \npython-3.8.13        | 22.7 MB   | #####      |  50% \npython-3.8.13        | 22.7 MB   | ########## | 100% \n\nxz-5.2.5             | 389 KB    |            |   0% \nxz-5.2.5             | 389 KB    | ########## | 100% \n\nlibtiff-4.2.0        | 579 KB    |            |   0% \nlibtiff-4.2.0        | 579 KB    | ########## | 100% \nlibtiff-4.2.0        | 579 KB    | ########## | 100% \n\njoblib-1.1.0         | 211 KB    |            |   0% \njoblib-1.1.0         | 211 KB    | ########## | 100% \n\nthreadpoolctl-2.2.0  | 16 KB     |            |   0% \nthreadpoolctl-2.2.0  | 16 KB     | ########## | 100% \n\nlibgomp-11.2.0       | 560 KB    |            |   0% \nlibgomp-11.2.0       | 560 KB    | ########## | 100% \n\nnumexpr-2.8.3        | 133 KB    |            |   0% \nnumexpr-2.8.3        | 133 KB    | ########## | 100% \n\nncurses-6.3          | 1.1 MB    |            |   0% \nncurses-6.3          | 1.1 MB    | ########## | 100% \nncurses-6.3          | 1.1 MB    | ########## | 100% \n\nlibwebp-base-1.2.2   | 869 KB    |            |   0% \nlibwebp-base-1.2.2   | 869 KB    | ########## | 100% \nlibwebp-base-1.2.2   | 869 KB    | ########## | 100% \n\nzstd-1.5.2           | 808 KB    |            |   0% \nzstd-1.5.2           | 808 KB    | ########## | 100% \nzstd-1.5.2           | 808 KB    | ########## | 100% \n\nsix-1.16.0           | 19 KB     |            |   0% \nsix-1.16.0           | 19 KB     | ########## | 100% \n\npackaging-21.3       | 35 KB     |            |   0% \npackaging-21.3       | 35 KB     | ########## | 100% \n\nca-certificates-2022 | 131 KB    |            |   0% \nca-certificates-2022 | 131 KB    | ########## | 100% \n\ngiflib-5.2.1         | 82 KB     |            |   0% \ngiflib-5.2.1         | 82 KB     | ########## | 100% \n\npandas-1.4.3         | 12.6 MB   |            |   0% \npandas-1.4.3         | 12.6 MB   | #########7 |  98% \npandas-1.4.3         | 12.6 MB   | ########## | 100% \n\nlibpng-1.6.37        | 364 KB    |            |   0% \nlibpng-1.6.37        | 364 KB    | ########## | 100% \n\nlcms2-2.12           | 396 KB    |            |   0% \nlcms2-2.12           | 396 KB    | ########## | 100% \n\nzlib-1.2.12          | 130 KB    |            |   0% \nzlib-1.2.12          | 130 KB    | ########## | 100% \n\nlibwebp-1.2.2        | 88 KB     |            |   0% \nlibwebp-1.2.2        | 88 KB     | ########## | 100% \n\npyparsing-3.0.4      | 78 KB     |            |   0% \npyparsing-3.0.4      | 78 KB     | ########## | 100% \n\nld_impl_linux-64-2.3 | 732 KB    |            |   0% \nld_impl_linux-64-2.3 | 732 KB    | ########## | 100% \nld_impl_linux-64-2.3 | 732 KB    | ########## | 100% \n\nbottleneck-1.3.5     | 125 KB    |            |   0% \nbottleneck-1.3.5     | 125 KB    | ########## | 100% \n\nopenssl-1.1.1q       | 3.8 MB    |            |   0% \nopenssl-1.1.1q       | 3.8 MB    | ########## | 100% \nopenssl-1.1.1q       | 3.8 MB    | ########## | 100% \n\nlibffi-3.3           | 54 KB     |            |   0% \nlibffi-3.3           | 54 KB     | ########## | 100% \n\nfreetype-2.11.0      | 943 KB    |            |   0% \nfreetype-2.11.0      | 943 KB    | ########## | 100% \nfreetype-2.11.0      | 943 KB    | ########## | 100% \n\ncertifi-2022.6.15    | 156 KB    |            |   0% \ncertifi-2022.6.15    | 156 KB    | ########## | 100% \n\nmkl-2021.4.0         | 219.1 MB  |            |   0% \nmkl-2021.4.0         | 219.1 MB  | 4          |   5% \nmkl-2021.4.0         | 219.1 MB  | #          |  11% \nmkl-2021.4.0         | 219.1 MB  | #6         |  16% \nmkl-2021.4.0         | 219.1 MB  | ##         |  21% \nmkl-2021.4.0         | 219.1 MB  | ##5        |  26% \nmkl-2021.4.0         | 219.1 MB  | ###        |  31% \nmkl-2021.4.0         | 219.1 MB  | ###6       |  36% \nmkl-2021.4.0         | 219.1 MB  | ####3      |  43% \nmkl-2021.4.0         | 219.1 MB  | ####9      |  50% \nmkl-2021.4.0         | 219.1 MB  | #####5     |  56% \nmkl-2021.4.0         | 219.1 MB  | ######1    |  62% \nmkl-2021.4.0         | 219.1 MB  | ######8    |  68% \nmkl-2021.4.0         | 219.1 MB  | #######4   |  74% \nmkl-2021.4.0         | 219.1 MB  | ########   |  81% \nmkl-2021.4.0         | 219.1 MB  | ########6  |  87% \nmkl-2021.4.0         | 219.1 MB  | #########2 |  93% \nmkl-2021.4.0         | 219.1 MB  | #########8 |  99% \n\nmkl-2021.4.0         | 219.1 MB  | ########## | 100% \n\nsqlite-3.39.2        | 1.5 MB    |            |   0% \nsqlite-3.39.2        | 1.5 MB    | ########## | 100% \nsqlite-3.39.2        | 1.5 MB    | ########## | 100% \n\ntk-8.6.12            | 3.3 MB    |            |   0% \ntk-8.6.12            | 3.3 MB    | ########## | 100% \ntk-8.6.12            | 3.3 MB    | ########## | 100% \n\nnumpy-1.23.1         | 10 KB     |            |   0% \nnumpy-1.23.1         | 10 KB     | ########## | 100% \n\njpeg-9e              | 273 KB    |            |   0% \njpeg-9e              | 273 KB    | ########## | 100% \n\nlibgfortran4-7.5.0   | 1.3 MB    |            |   0% \nlibgfortran4-7.5.0   | 1.3 MB    | ########## | 100% \nlibgfortran4-7.5.0   | 1.3 MB    | ########## | 100% \n\nreadline-8.1.2       | 423 KB    |            |   0% \nreadline-8.1.2       | 423 KB    | ########## | 100% \n\nintel-openmp-2021.4. | 8.8 MB    |            |   0% \nintel-openmp-2021.4. | 8.8 MB    | ########## | 100% \nintel-openmp-2021.4. | 8.8 MB    | ########## | 100% \n\npip-22.1.2           | 2.9 MB    |            |   0% \npip-22.1.2           | 2.9 MB    | ########## | 100% \npip-22.1.2           | 2.9 MB    | ########## | 100% \n\nscikit-learn-1.1.1   | 8.4 MB    |            |   0% \nscikit-learn-1.1.1   | 8.4 MB    |            |   0% \nscikit-learn-1.1.1   | 8.4 MB    | #####3     |  54% \nscikit-learn-1.1.1   | 8.4 MB    | #########6 |  96% \nscikit-learn-1.1.1   | 8.4 MB    | ########## | 100% \n\nwheel-0.37.1         | 31 KB     |            |   0% \nwheel-0.37.1         | 31 KB     | ########## | 100% \n\n_openmp_mutex-5.1    | 20 KB     |            |   0% \n_openmp_mutex-5.1    | 20 KB     | ########## | 100% \n\nlz4-c-1.9.3          | 216 KB    |            |   0% \nlz4-c-1.9.3          | 216 KB    | ########## | 100% \n\nmkl-service-2.4.0    | 62 KB     |            |   0% \nmkl-service-2.4.0    | 62 KB     | ##5        |  26% \nmkl-service-2.4.0    | 62 KB     | ########## | 100% \n\nnumpy-base-1.23.1    | 7.1 MB    |            |   0% \nnumpy-base-1.23.1    | 7.1 MB    | ########## | 100% \nnumpy-base-1.23.1    | 7.1 MB    | ########## | 100% \n\npython-dateutil-2.8. | 241 KB    |            |   0% \npython-dateutil-2.8. | 241 KB    | ########## | 100% \n\npytz-2022.1          | 243 KB    |            |   0% \npytz-2022.1          | 243 KB    | ########## | 100% \npytz-2022.1          | 243 KB    | ########## | 100% \n\nlibgcc-ng-11.2.0     | 8.5 MB    |            |   0% \nlibgcc-ng-11.2.0     | 8.5 MB    | ########## | 100% \nlibgcc-ng-11.2.0     | 8.5 MB    | ########## | 100% \n\nscipy-1.7.3          | 21.4 MB   |            |   0% \nscipy-1.7.3          | 21.4 MB   | #####4     |  54% \nscipy-1.7.3          | 21.4 MB   | ########## | 100% \n\nblas-1.0             | 6 KB      |            |   0% \nblas-1.0             | 6 KB      | ########## | 100% \n\nlibgfortran-ng-7.5.0 | 22 KB     |            |   0% \nlibgfortran-ng-7.5.0 | 22 KB     | ########## | 100% \n\n_libgcc_mutex-0.1    | 3 KB      |            |   0% \n_libgcc_mutex-0.1    | 3 KB      | ########## | 100% \nPreparing transaction: ...working... done\nVerifying transaction: ...working... done\nExecuting transaction: ...working... \n\n    Installed package of scikit-learn can be accelerated using scikit-learn-intelex.\n    More details are available here: https://intel.github.io/scikit-learn-intelex\n\n    For example:\n\n        $ conda install scikit-learn-intelex\n        $ python -m sklearnex my_application.py\n\n    \n\ndone\nInstalling pip dependencies: ...working... Ran pip subprocess with arguments:\n['/azureml-envs/azureml_e883ee763b530ee11779690b190c3da5/bin/python', '-m', 'pip', 'install', '-U', '-r', '/azureml-environment-setup/condaenv.r8jntnnj.requirements.txt']\nPip subprocess output:\nCollecting azureml-sdk[automl]~=1.44.0\n  Downloading azureml_sdk-1.44.0-py3-none-any.whl (2.7 kB)\nCollecting pyarrow\n  Downloading pyarrow-10.0.0-cp38-cp38-manylinux_2_17_x86_64.manylinux2014_x86_64.whl (35.3 MB)\n     ━━━━━━━━━━━━━━━━━━━━━━━━━━━━━━━━━━━━━━━━ 35.3/35.3 MB 75.6 MB/s eta 0:00:00\n\nfailed\n\u001b[91m\n\n==> WARNING: A newer version of conda exists. <==\n  current version: 4.11.0\n  latest version: 22.9.0\n\nPlease update conda by running\n\n    $ conda update -n base -c defaults conda\n\n\nPip subprocess error:\nERROR: Could not find a version that satisfies the requirement cv2 (from versions: none)\nERROR: No matching distribution found for cv2\n\n\nCondaEnvException: Pip failed\n\n\u001b[0mThe command '/bin/sh -c ldconfig /usr/local/cuda/lib64/stubs && conda env create -p /azureml-envs/azureml_e883ee763b530ee11779690b190c3da5 -f azureml-environment-setup/mutated_conda_dependencies.yml && rm -rf \"$HOME/.cache/pip\" && conda clean -aqy && CONDA_ROOT_DIR=$(conda info --root) && rm -rf \"$CONDA_ROOT_DIR/pkgs\" && find \"$CONDA_ROOT_DIR\" -type d -name __pycache__ -exec rm -rf {} + && ldconfig' returned a non-zero code: 1\n2022/11/16 14:01:12 Container failed during run: acb_step_0. No retries remaining.\nfailed to run step ID: acb_step_0: exit status 1\n\nRun ID: ce2 failed after 2m40s. Error: failed during run, err: exit status 1\n"
        }
      ],
      "execution_count": 49,
      "metadata": {
        "jupyter": {
          "source_hidden": false,
          "outputs_hidden": false
        },
        "nteract": {
          "transient": {
            "deleting": false
          }
        },
        "gather": {
          "logged": 1668606827209
        }
      }
    }
  ],
  "metadata": {
    "kernelspec": {
      "name": "python38-azureml",
      "language": "python",
      "display_name": "Python 3.8 - AzureML"
    },
    "language_info": {
      "name": "python",
      "version": "3.8.5",
      "mimetype": "text/x-python",
      "codemirror_mode": {
        "name": "ipython",
        "version": 3
      },
      "pygments_lexer": "ipython3",
      "nbconvert_exporter": "python",
      "file_extension": ".py"
    },
    "kernel_info": {
      "name": "python38-azureml"
    },
    "nteract": {
      "version": "nteract-front-end@1.0.0"
    },
    "microsoft": {
      "host": {
        "AzureML": {
          "notebookHasBeenCompleted": true
        }
      }
    }
  },
  "nbformat": 4,
  "nbformat_minor": 2
}